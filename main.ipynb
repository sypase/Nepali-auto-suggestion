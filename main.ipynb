{
 "cells": [
  {
   "cell_type": "markdown",
   "id": "4f16bb84",
   "metadata": {},
   "source": [
    "# Nepali Word Suggestion Model\n",
    "This notebook trains a language model on a Nepali text dataset to suggest next words."
   ]
  },
  {
   "cell_type": "code",
   "execution_count": null,
   "id": "ad94e1f4",
   "metadata": {},
   "outputs": [],
   "source": [
    "import numpy as np\n",
    "import tensorflow as tf\n",
    "from tensorflow.keras.preprocessing.text import Tokenizer\n",
    "from tensorflow.keras.preprocessing.sequence import pad_sequences\n",
    "from tensorflow.keras.models import Sequential\n",
    "from tensorflow.keras.layers import Embedding, LSTM, Dense\n",
    "import matplotlib.pyplot as plt\n"
   ]
  },
  {
   "cell_type": "code",
   "execution_count": null,
   "id": "5eff86c8",
   "metadata": {},
   "outputs": [],
   "source": [
    "# Load the Nepali corpus\n",
    "with open(\"data/nepali_corpus.txt\", encoding='utf-8') as f:\n",
    "    corpus = f.read().lower().split(\"\\n\")\n",
    "\n",
    "print(\"Number of sentences:\", len(corpus))\n",
    "print(\"Sample sentence:\", corpus[0])\n"
   ]
  },
  {
   "cell_type": "code",
   "execution_count": null,
   "id": "9b5828cc",
   "metadata": {},
   "outputs": [],
   "source": [
    "tokenizer = Tokenizer()\n",
    "tokenizer.fit_on_texts(corpus)\n",
    "total_words = len(tokenizer.word_index) + 1\n",
    "print(\"Total words in vocab:\", total_words)\n"
   ]
  },
  {
   "cell_type": "code",
   "execution_count": null,
   "id": "b105db0c",
   "metadata": {},
   "outputs": [],
   "source": [
    "input_sequences = []\n",
    "for line in corpus:\n",
    "    token_list = tokenizer.texts_to_sequences([line])[0]\n",
    "    for i in range(1, len(token_list)):\n",
    "        n_gram_sequence = token_list[:i+1]\n",
    "        input_sequences.append(n_gram_sequence)\n",
    "\n",
    "# Pad sequences\n",
    "max_seq_len = max([len(x) for x in input_sequences])\n",
    "input_sequences = pad_sequences(input_sequences, maxlen=max_seq_len, padding='pre')\n",
    "\n",
    "# Split into predictors and label\n",
    "xs, labels = input_sequences[:,:-1], input_sequences[:,-1]\n",
    "ys = tf.keras.utils.to_categorical(labels, num_classes=total_words)\n",
    "\n",
    "print(\"Training data shape:\", xs.shape)\n"
   ]
  },
  {
   "cell_type": "code",
   "execution_count": null,
   "id": "dd8dab5e",
   "metadata": {},
   "outputs": [],
   "source": [
    "model = Sequential()\n",
    "model.add(Embedding(total_words, 100, input_length=max_seq_len-1))\n",
    "model.add(LSTM(150))\n",
    "model.add(Dense(total_words, activation='softmax'))\n",
    "\n",
    "model.compile(loss='categorical_crossentropy', optimizer='adam', metrics=['accuracy'])\n",
    "model.summary()\n"
   ]
  },
  {
   "cell_type": "code",
   "execution_count": null,
   "id": "02b81f81",
   "metadata": {},
   "outputs": [],
   "source": [
    "history = model.fit(xs, ys, epochs=20, verbose=1)\n"
   ]
  },
  {
   "cell_type": "code",
   "execution_count": null,
   "id": "ba679ba9",
   "metadata": {},
   "outputs": [],
   "source": [
    "plt.plot(history.history['accuracy'])\n",
    "plt.title('Model Accuracy')\n",
    "plt.ylabel('Accuracy')\n",
    "plt.xlabel('Epoch')\n",
    "plt.show()\n"
   ]
  },
  {
   "cell_type": "code",
   "execution_count": null,
   "id": "a71a7a71",
   "metadata": {},
   "outputs": [],
   "source": [
    "def predict_next_word(seed_text, next_words=5):\n",
    "    for _ in range(next_words):\n",
    "        token_list = tokenizer.texts_to_sequences([seed_text])[0]\n",
    "        token_list = pad_sequences([token_list], maxlen=max_seq_len-1, padding='pre')\n",
    "        predicted = model.predict(token_list, verbose=0)\n",
    "        predicted_word = tokenizer.index_word[np.argmax(predicted)]\n",
    "        seed_text += \" \" + predicted_word\n",
    "    return seed_text\n",
    "\n",
    "# Example usage\n",
    "print(predict_next_word(\"तिमी\"))\n"
   ]
  }
 ],
 "metadata": {
  "language_info": {
   "name": "python"
  }
 },
 "nbformat": 4,
 "nbformat_minor": 5
}
